{
 "cells": [
  {
   "cell_type": "markdown",
   "metadata": {},
   "source": [
    "**Discriptive Statistics**<br>\n",
    "Discriptive statistics is the branch of statistics that involves organizing, displaying and describing data.\n",
    "<br>\n",
    "Measures used in discriptive analysis\n",
    "<br>\n",
    "Measure of central tendency<br>\n",
    "Measure of dispersion<br>\n",
    "Measure of position<br>\n",
    "<br><br>\n",
    "**Measure of Central Tendancy**<br>\n",
    "Mean<br>\n",
    "Median<br>\n",
    "Mode<br>\n",
    "<br><br>\n",
    "Measure of Dispersion<br>\n",
    "Range<br>\n",
    "Interquartile Range<br>\n",
    "Variance<br>\n",
    "Standard Deviation<br><br>\n",
    "*Skewness and kurtosis are also two measure of dispersion or shape of the distribution*<br>\n",
    "Skewness<br>\n",
    "Skewness is the measure of lack of symmetry.<br>\n",
    "Kurtosis<br>\n",
    "Kurtosis is the measure of packed-ness relative to a gaussion shape.<br><br>\n",
    "**Measure of position**<br>\n",
    "Percentile<br>\n",
    "Quartles<br>\n",
    "Standard Score<br>"
   ]
  },
  {
   "cell_type": "markdown",
   "metadata": {},
   "source": [
    "| Category          | Description                                       | Common Techniques |\n",
    "|-------------------|---------------------------------------------------|-------------------|\n",
    "| EDA               | Initial phase of data analysis to get acquainted with the data | Data cleaning, summary statistics, visualizations, outlier detection |\n",
    "| Univariate Analysis | Analysis of individual variables in a dataset     | Histograms, box plots, density plots, descriptive statistics (mean, median, mode, quartiles), measures of spread (variance, standard deviation) |\n",
    "| Bivariate Analysis  | Investigation of relationships between two variables at a time  | Scatter plots, correlation coefficients (Pearson, Spearman), cross-tabulation, heatmaps |\n"
   ]
  },
  {
   "cell_type": "markdown",
   "metadata": {},
   "source": [
    "Univeriate EDA 👇"
   ]
  },
  {
   "cell_type": "markdown",
   "metadata": {},
   "source": [
    "| Measure/Technique      | Purpose   | Type (Graphical/Numerical) | Examples |\n",
    "|------------------------|-----------|----------------------------|----------|\n",
    "| Central Tendency       | Understand the typical or representative value within the distribution | Numerical | Mean, Median, Mode |\n",
    "| Dispersion             | Describe the spread or variability of data | Numerical | Range, IQR, Variance, Standard Deviation |\n",
    "| Shape                  | Describe the overall pattern of data distribution  | Numerical  | Skewness, Kurtosis |\n",
    "| Histograms             | Visualize the distribution of a continuous variable  | Graphical  |-|\n",
    "| Box Plots              | Visualize distribution with focus on quartiles and outliers  | Graphical |-|\n",
    "| Density Plots          | Visualize distribution (smoothed histogram for continuous variables)  | Graphical |-|\n",
    "| Quantile-Quantile (Q-Q) Plots | Assess if a variable follows a known theoretical distribution | Graphical |-|\n"
   ]
  },
  {
   "cell_type": "markdown",
   "metadata": {},
   "source": [
    "Bivariate EDA 👇"
   ]
  },
  {
   "cell_type": "markdown",
   "metadata": {},
   "source": [
    "| Measure/Technique | Purpose | Type (Graphical/Numerical) | Examples |\n",
    "|-------------------|---------|----------------------------|----------|\n",
    "| Correlation       | Measure the strength and direction of a linear relationship between two continuous variables | Numerical | Pearson correlation, Spearman correlation, Kendall’s tau |\n",
    "| Scatter Plots     | Visualize the relationship between two continuous variables | Graphical | - |\n",
    "| Box Plots (grouped)| Compare distributions of a continuous variable across groups defined by a categorical variable  | Graphical |- |\n",
    "| Contingency Tables| Summarize the relationship between two categorical variables (counts of occurrences)  | Numerical |- |\n",
    "| Heatmaps          | Visualize correlation patterns within a matrix of multiple variables  | Graphical |- |\n"
   ]
  }
 ],
 "metadata": {
  "kernelspec": {
   "display_name": "Python 3",
   "language": "python",
   "name": "python3"
  },
  "language_info": {
   "codemirror_mode": {
    "name": "ipython",
    "version": 3
   },
   "file_extension": ".py",
   "mimetype": "text/x-python",
   "name": "python",
   "nbconvert_exporter": "python",
   "pygments_lexer": "ipython3",
   "version": "3.11.5"
  }
 },
 "nbformat": 4,
 "nbformat_minor": 2
}
